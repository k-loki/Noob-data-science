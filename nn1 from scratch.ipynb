{
 "cells": [
  {
   "cell_type": "code",
   "execution_count": 1,
   "id": "db4f8ba2",
   "metadata": {},
   "outputs": [],
   "source": [
    "inputs = [1, 2, 3, 2.5]\n",
    "weights = [3, 4, 5, -3]\n",
    "bias = 3\n",
    "\n",
    "output = inputs[0]*weights[0]+bias+inputs[1] * \\\n",
    "    weights[1]+inputs[2]*weights[2]+inputs[3]*weights[3]\n"
   ]
  },
  {
   "cell_type": "code",
   "execution_count": 2,
   "id": "726bd699",
   "metadata": {},
   "outputs": [
    {
     "data": {
      "text/plain": [
       "21.5"
      ]
     },
     "execution_count": 2,
     "metadata": {},
     "output_type": "execute_result"
    }
   ],
   "source": [
    "output\n"
   ]
  },
  {
   "cell_type": "code",
   "execution_count": 4,
   "id": "e9f11342",
   "metadata": {},
   "outputs": [],
   "source": [
    "inputs = [1, 2, 3, 2.5]\n",
    "\n",
    "weights1 = [3, 4, 5, -3]\n",
    "weights2 = [4, 5, 67, 8]\n",
    "weights3 = [2.9, 6.7, 45, 70]\n",
    "\n",
    "bias1 = 3\n",
    "bias2 = 4\n",
    "bias3 = 1\n",
    "\n",
    "output = [inputs[0]*weights1[0]+bias1+inputs[1]*weights1[1]+inputs[2]*weights1[2]+inputs[3]*weights[3],\n",
    "          inputs[0]*weights2[0]+bias2+inputs[1]*weights2[1] +\n",
    "          inputs[2]*weights2[2]+inputs[3]*weights[3],\n",
    "          inputs[0]*weights3[0]+bias3+inputs[1]*weights3[1]+inputs[2]*weights3[2]+inputs[3]*weights[3]]\n"
   ]
  },
  {
   "cell_type": "code",
   "execution_count": 5,
   "id": "1c2fc237",
   "metadata": {},
   "outputs": [
    {
     "data": {
      "text/plain": [
       "[21.5, 211.5, 144.8]"
      ]
     },
     "execution_count": 5,
     "metadata": {},
     "output_type": "execute_result"
    }
   ],
   "source": [
    "output\n"
   ]
  },
  {
   "cell_type": "code",
   "execution_count": 6,
   "id": "c5980de0",
   "metadata": {},
   "outputs": [
    {
     "name": "stdout",
     "output_type": "stream",
     "text": [
      "[21.5, 239.0, 327.3]\n"
     ]
    }
   ],
   "source": [
    "weights = [[3, 4, 5, -3],\n",
    "           [4, 5, 67, 8],\n",
    "           [2.9, 6.7, 45, 70]]\n",
    "\n",
    "biases = [3, 4, 1]\n",
    "\n",
    "layer_outputs = []\n",
    "for neuron_weights, neuron_bias in zip(weights, biases):\n",
    "    neuron_output = 0\n",
    "    for n_input, weight in zip(inputs, neuron_weights):\n",
    "        neuron_output += n_input*weight\n",
    "    neuron_output += neuron_bias\n",
    "    layer_outputs.append(neuron_output)\n",
    "\n",
    "print(layer_outputs)\n"
   ]
  },
  {
   "cell_type": "code",
   "execution_count": 7,
   "id": "b4e52b83",
   "metadata": {},
   "outputs": [
    {
     "name": "stdout",
     "output_type": "stream",
     "text": [
      "[3, 4, 5, -3]\n",
      "[4, 5, 67, 8]\n",
      "[2.9, 6.7, 45, 70]\n"
     ]
    }
   ],
   "source": [
    "for i in weights:\n",
    "    print(i)\n"
   ]
  },
  {
   "cell_type": "code",
   "execution_count": 8,
   "id": "46296619",
   "metadata": {},
   "outputs": [],
   "source": [
    "import numpy as np\n",
    "\n",
    "inputs = [1, 2, 3, 2.5]\n",
    "weights = [3, 4, 5, -3]\n",
    "bias = 3\n",
    "\n",
    "output = np.dot(inputs, weights)+bias\n"
   ]
  },
  {
   "cell_type": "code",
   "execution_count": 9,
   "id": "558d3446",
   "metadata": {},
   "outputs": [
    {
     "data": {
      "text/plain": [
       "21.5"
      ]
     },
     "execution_count": 9,
     "metadata": {},
     "output_type": "execute_result"
    }
   ],
   "source": [
    "output\n"
   ]
  },
  {
   "cell_type": "code",
   "execution_count": 10,
   "id": "85e34be2",
   "metadata": {},
   "outputs": [
    {
     "name": "stdout",
     "output_type": "stream",
     "text": [
      "21.5\n"
     ]
    }
   ],
   "source": [
    "print(np.dot(weights, inputs)+bias)\n"
   ]
  },
  {
   "cell_type": "code",
   "execution_count": 11,
   "id": "a2f05ea7",
   "metadata": {},
   "outputs": [
    {
     "data": {
      "text/plain": [
       "array([ 21.5, 238. , 329.3])"
      ]
     },
     "execution_count": 11,
     "metadata": {},
     "output_type": "execute_result"
    }
   ],
   "source": [
    "weights = [[3, 4, 5, -3],\n",
    "           [4, 5, 67, 8],\n",
    "           [2.9, 6.7, 45, 70]]\n",
    "\n",
    "biases = [3, 4, 1]\n",
    "\n",
    "output = np.dot(weights, inputs)+bias\n",
    "output\n"
   ]
  },
  {
   "cell_type": "code",
   "execution_count": null,
   "id": "ddf6f861",
   "metadata": {},
   "outputs": [],
   "source": [
    "print(np.dot(inputs, weights))"
   ]
  },
  {
   "cell_type": "code",
   "execution_count": 13,
   "id": "7c959c09",
   "metadata": {},
   "outputs": [],
   "source": [
    "inputs = [[1, -2, 3, 4],\n",
    "          [6, 0, -6, 5],\n",
    "          [4, 5, -7, -22]]\n",
    "\n",
    "weights = [[3, 4, 5, -3],\n",
    "           [4, 5, 67, 8],\n",
    "           [2.9, 6.7, 45, 70]]\n",
    "\n",
    "biases = [3, 4, 1]\n"
   ]
  },
  {
   "cell_type": "code",
   "execution_count": 14,
   "id": "c0d27fef",
   "metadata": {},
   "outputs": [
    {
     "data": {
      "text/plain": [
       "list"
      ]
     },
     "execution_count": 14,
     "metadata": {},
     "output_type": "execute_result"
    }
   ],
   "source": [
    "type(inputs)\n"
   ]
  },
  {
   "cell_type": "code",
   "execution_count": 15,
   "id": "1d9148f1",
   "metadata": {},
   "outputs": [
    {
     "data": {
      "text/plain": [
       "array([[ 1.0000e+00,  2.3100e+02,  4.0550e+02],\n",
       "       [-2.4000e+01, -3.3400e+02,  9.8400e+01],\n",
       "       [ 6.6000e+01, -6.0000e+02, -1.8089e+03]])"
      ]
     },
     "execution_count": 15,
     "metadata": {},
     "output_type": "execute_result"
    }
   ],
   "source": [
    "output = np.dot(inputs, np.array(weights).T)+biases\n",
    "output\n"
   ]
  },
  {
   "cell_type": "code",
   "execution_count": 16,
   "id": "1dde8c86",
   "metadata": {},
   "outputs": [
    {
     "name": "stdout",
     "output_type": "stream",
     "text": [
      "[[ 2.07581312 11.39835225  3.44624108  4.1821498   2.88510534]\n",
      " [ 4.01938263 26.70516132  6.21873209 10.06617804  5.5865348 ]\n",
      " [ 6.3698017  26.53526547  7.2882844  12.36900255  7.20773369]]\n"
     ]
    }
   ],
   "source": [
    "np.random.seed(0)\n",
    "X = [\n",
    "    [1, 2, 3, 2.5],\n",
    "    [3.0, 5.6, 6, 7],\n",
    "    [4, 5, 6, 7]\n",
    "]\n",
    "\n",
    "\n",
    "class Layer_Dense:\n",
    "    def __init__(self, n_inputs, n_neurons):\n",
    "        self.weights = np.random.randn(n_inputs, n_neurons)\n",
    "        self.biases = np.ones((1, n_neurons))\n",
    "\n",
    "    def forward(self, inputs):\n",
    "        self.output = np.dot(inputs, self.weights)+self.biases\n",
    "\n",
    "\n",
    "layer1 = Layer_Dense(4, 5)\n",
    "layer2 = Layer_Dense(5, 2)\n",
    "\n",
    "layer1.forward(X)\n",
    "print(layer1.output)\n"
   ]
  },
  {
   "cell_type": "code",
   "execution_count": 17,
   "id": "40ecc3dd",
   "metadata": {},
   "outputs": [
    {
     "name": "stdout",
     "output_type": "stream",
     "text": [
      "[[1.]\n",
      " [1.]\n",
      " [1.]]\n"
     ]
    }
   ],
   "source": [
    "print(np.ones((3, 1)))\n"
   ]
  },
  {
   "cell_type": "code",
   "execution_count": 18,
   "id": "ca0ed70c",
   "metadata": {},
   "outputs": [
    {
     "name": "stdout",
     "output_type": "stream",
     "text": [
      "[[ 17.98933865  -7.65833907]\n",
      " [ 36.96199895 -18.91240591]\n",
      " [ 35.83247396 -16.85448646]]\n"
     ]
    }
   ],
   "source": [
    "layer2.forward(layer1.output)\n",
    "print(layer2.output)\n"
   ]
  },
  {
   "cell_type": "code",
   "execution_count": 19,
   "id": "adee7a0f",
   "metadata": {},
   "outputs": [
    {
     "name": "stdout",
     "output_type": "stream",
     "text": [
      "hello,hope you are there\n"
     ]
    }
   ],
   "source": [
    "print('hello,hope you are there')\n"
   ]
  },
  {
   "cell_type": "code",
   "execution_count": 20,
   "id": "ab938e58",
   "metadata": {},
   "outputs": [],
   "source": [
    "class Activation_Relu:\n",
    "    def forward(self, input):\n",
    "        self.output = np.maximum(0, input)\n"
   ]
  },
  {
   "cell_type": "code",
   "execution_count": 25,
   "id": "395e4a4c",
   "metadata": {},
   "outputs": [],
   "source": [
    "from nnfs.datasets import spiral_data\n",
    "X, y = spiral_data(100, 3)"
   ]
  },
  {
   "cell_type": "code",
   "execution_count": 27,
   "id": "bf3c45cd",
   "metadata": {},
   "outputs": [],
   "source": [
    "layer1 = Layer_Dense(2, 5)\n",
    "\n",
    "activation = Activation_Relu()\n",
    "\n",
    "layer1.forward(X)\n"
   ]
  },
  {
   "cell_type": "code",
   "execution_count": 28,
   "id": "1b15ca37",
   "metadata": {},
   "outputs": [
    {
     "name": "stdout",
     "output_type": "stream",
     "text": [
      "[[1.         1.         1.         1.         1.        ]\n",
      " [1.00802739 0.97956959 1.00659873 0.98995891 1.00837962]\n",
      " [1.00827682 0.97131311 1.00510299 0.99231241 1.0454176 ]\n",
      " ...\n",
      " [1.18000993 0.02950039 1.03363905 0.95402051 3.66025113]\n",
      " [0.11656082 2.63604559 0.13713407 2.31922215 3.03280776]\n",
      " [0.75020746 0.93364405 0.63798859 1.55799872 4.12717065]]\n"
     ]
    }
   ],
   "source": [
    "activation.forward(layer1.output)\n",
    "print(activation.output)\n"
   ]
  },
  {
   "cell_type": "code",
   "execution_count": null,
   "id": "cd89669e",
   "metadata": {},
   "outputs": [],
   "source": [
    "layer_outputs = [[4.8, 1.21, 2.385],\n",
    "                 [-1.2, 3.4, -5.6],\n",
    "                 [3.4, 5.6, 2.1]]\n",
    "\n",
    "exp_values = np.exp(layer_outputs)\n",
    "norm_values = exp_values/np.sum(exp_values, axis=1, keepdims=True)\n",
    "# print(np.sum(layer_outputs,axis=1,keepdims=True))\n",
    "\n",
    "print(norm_values)"
   ]
  }
 ],
 "metadata": {
  "kernelspec": {
   "display_name": "Python 3",
   "language": "python",
   "name": "python3"
  },
  "language_info": {
   "codemirror_mode": {
    "name": "ipython",
    "version": 3
   },
   "file_extension": ".py",
   "mimetype": "text/x-python",
   "name": "python",
   "nbconvert_exporter": "python",
   "pygments_lexer": "ipython3",
   "version": "3.9.5"
  }
 },
 "nbformat": 4,
 "nbformat_minor": 5
}
